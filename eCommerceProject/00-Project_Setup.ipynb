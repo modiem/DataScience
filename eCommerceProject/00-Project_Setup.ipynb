{
 "cells": [
  {
   "cell_type": "markdown",
   "metadata": {
    "heading_collapsed": true
   },
   "source": [
    "### Debug"
   ]
  },
  {
   "cell_type": "code",
   "execution_count": null,
   "metadata": {
    "hidden": true
   },
   "outputs": [],
   "source": [
    "%debug     #set_trace just before the error!"
   ]
  },
  {
   "cell_type": "code",
   "execution_count": null,
   "metadata": {
    "hidden": true,
    "scrolled": true
   },
   "outputs": [],
   "source": [
    "# import ipdb; ipdb.set_trace()"
   ]
  },
  {
   "cell_type": "markdown",
   "metadata": {
    "heading_collapsed": true
   },
   "source": [
    "### Check python path\n"
   ]
  },
  {
   "cell_type": "code",
   "execution_count": 11,
   "metadata": {
    "collapsed": true,
    "hidden": true
   },
   "outputs": [
    {
     "name": "stdout",
     "output_type": "stream",
     "text": [
      "Where am I? -->  /Users/moyang/code/modiem/DataScience/eCommerceProject\n",
      "========================================\n",
      "From Where import packages? -->\n",
      "['/Users/moyang/code/modiem/DataScience/eCommerceProject',\n",
      " '/Users/moyang/code/modiem/data-challenges/04-Decision-Science',\n",
      " '/Users/moyang/code/modiem/DataScience/eCommerceProject',\n",
      " '/Users/moyang/.pyenv/versions/3.8.5/lib/python38.zip',\n",
      " '/Users/moyang/.pyenv/versions/3.8.5/lib/python3.8',\n",
      " '/Users/moyang/.pyenv/versions/3.8.5/lib/python3.8/lib-dynload',\n",
      " '',\n",
      " '/Users/moyang/.pyenv/versions/3.8.5/envs/bubble/lib/python3.8/site-packages',\n",
      " '/Users/moyang/.pyenv/versions/3.8.5/envs/bubble/lib/python3.8/site-packages/IPython/extensions',\n",
      " '/Users/moyang/.ipython']\n"
     ]
    }
   ],
   "source": [
    "import sys\n",
    "import os\n",
    "import pprint\n",
    "\n",
    "print(\"Where am I? --> \", os.getcwd())\n",
    "print(\"====\" * 10)\n",
    "print(\"PYTHONPATH:\")\n",
    "print(os.environ['PYTHONPATH'])  \n",
    "print(\"====\" * 10)\n",
    "print(\"From Where import packages? -->\")\n",
    "pprint.pprint(sys.path)"
   ]
  },
  {
   "cell_type": "markdown",
   "metadata": {},
   "source": [
    "### Quick Glance at data"
   ]
  },
  {
   "cell_type": "markdown",
   "metadata": {},
   "source": [
    "1. Check DataFrame attributes: .shape, .columns, dtype\n",
    "1. Use DataFrame methods: .head(), .info(), .describe(), .nunique(), .isna().sum()\n",
    "1. use pandas profiling\n",
    "1. plot distributions"
   ]
  },
  {
   "cell_type": "code",
   "execution_count": null,
   "metadata": {},
   "outputs": [],
   "source": [
    "import pandas_profiling"
   ]
  }
 ],
 "metadata": {
  "kernelspec": {
   "display_name": "Python 3",
   "language": "python",
   "name": "python3"
  },
  "language_info": {
   "codemirror_mode": {
    "name": "ipython",
    "version": 3
   },
   "file_extension": ".py",
   "mimetype": "text/x-python",
   "name": "python",
   "nbconvert_exporter": "python",
   "pygments_lexer": "ipython3",
   "version": "3.8.5"
  },
  "toc": {
   "base_numbering": 1,
   "nav_menu": {
    "height": "165px",
    "width": "192px"
   },
   "number_sections": true,
   "sideBar": true,
   "skip_h1_title": false,
   "title_cell": "Table of Contents",
   "title_sidebar": "Contents",
   "toc_cell": false,
   "toc_position": {},
   "toc_section_display": true,
   "toc_window_display": false
  }
 },
 "nbformat": 4,
 "nbformat_minor": 4
}
