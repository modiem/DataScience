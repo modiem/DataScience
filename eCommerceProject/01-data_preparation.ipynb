{
 "cells": [
  {
   "cell_type": "markdown",
   "metadata": {
    "heading_collapsed": true
   },
   "source": [
    "# Data Preparation"
   ]
  },
  {
   "cell_type": "code",
   "execution_count": 45,
   "metadata": {
    "hidden": true
   },
   "outputs": [],
   "source": [
    "# \"magic commands\" to enable autoreload of your imported packages\n",
    "%load_ext autoreload\n",
    "%autoreload 2"
   ]
  },
  {
   "cell_type": "code",
   "execution_count": 6,
   "metadata": {
    "hidden": true
   },
   "outputs": [],
   "source": [
    "import os\n",
    "import pandas as pd "
   ]
  },
  {
   "cell_type": "markdown",
   "metadata": {
    "heading_collapsed": true,
    "hidden": true
   },
   "source": [
    "## Explore the data folder"
   ]
  },
  {
   "cell_type": "markdown",
   "metadata": {
    "hidden": true
   },
   "source": [
    "The data was provided by Olist, downloaded from kaggle. \n",
    "\n",
    "Inspect the data structure from the schema:\n",
    "\n",
    "![Schema](schema.png)"
   ]
  },
  {
   "cell_type": "code",
   "execution_count": 2,
   "metadata": {
    "hidden": true
   },
   "outputs": [
    {
     "name": "stdout",
     "output_type": "stream",
     "text": [
      "\u001b[01;34m.\u001b[00m\r\n",
      "├── 0-Project_Setup.ipynb\r\n",
      "├── 01-data_preparation.ipynb\r\n",
      "├── \u001b[01;34mdata\u001b[00m\r\n",
      "│   ├── README.md\r\n",
      "│   └── \u001b[01;34mcsv\u001b[00m\r\n",
      "│       ├── \u001b[01;31mbrazilian-ecommerce.zip\u001b[00m\r\n",
      "│       ├── olist_customers_dataset.csv\r\n",
      "│       ├── olist_geolocation_dataset.csv\r\n",
      "│       ├── olist_order_items_dataset.csv\r\n",
      "│       ├── olist_order_payments_dataset.csv\r\n",
      "│       ├── olist_order_reviews_dataset.csv\r\n",
      "│       ├── olist_orders_dataset.csv\r\n",
      "│       ├── olist_products_dataset.csv\r\n",
      "│       ├── olist_sellers_dataset.csv\r\n",
      "│       └── product_category_name_translation.csv\r\n",
      "├── \u001b[01;34mpkg\u001b[00m\r\n",
      "│   └── __init__.py\r\n",
      "└── schema.png\r\n",
      "\r\n",
      "3 directories, 15 files\r\n"
     ]
    }
   ],
   "source": [
    "!tree"
   ]
  },
  {
   "cell_type": "markdown",
   "metadata": {
    "heading_collapsed": true,
    "hidden": true
   },
   "source": [
    "## Construct the dictionary `data`"
   ]
  },
  {
   "cell_type": "code",
   "execution_count": 24,
   "metadata": {
    "hidden": true
   },
   "outputs": [],
   "source": [
    "csv_path = os.path.join(os.getcwd(), 'data', 'csv')\n",
    "\n",
    "file_names = [f for f in os.listdir(csv_path) if f.endswith(\".csv\")]\n",
    "\n",
    "key_names = [\n",
    "    name.replace(\"olist_\", \"\")\n",
    "    .replace(\".csv\", \"\")\n",
    "    .replace(\"_dataset\", \"\")\n",
    "    for name in file_names\n",
    "]\n",
    "\n",
    "values = [pd.read_csv(path) for path in [os.path.join(csv_path,file_name) for file_name in file_names]]\n",
    "\n",
    "data = {key:value for (key, value) in zip(key_names, values)}"
   ]
  },
  {
   "cell_type": "code",
   "execution_count": 50,
   "metadata": {
    "hidden": true,
    "scrolled": true
   },
   "outputs": [],
   "source": [
    "## test .py script\n",
    "\n",
    "from pkg.data import Data\n",
    "\n",
    "data = Data().get_data()\n",
    "\n",
    "data.keys()"
   ]
  },
  {
   "cell_type": "markdown",
   "metadata": {
    "heading_collapsed": true
   },
   "source": [
    "# EDA"
   ]
  },
  {
   "cell_type": "markdown",
   "metadata": {
    "heading_collapsed": true,
    "hidden": true
   },
   "source": [
    "## EDA with pandas profiling"
   ]
  },
  {
   "cell_type": "code",
   "execution_count": 64,
   "metadata": {
    "hidden": true
   },
   "outputs": [
    {
     "data": {
      "text/plain": [
       "dict_keys(['sellers', 'product_category_name_translation', 'orders', 'order_items', 'customers', 'geolocation', 'order_payments', 'order_reviews', 'products'])"
      ]
     },
     "execution_count": 64,
     "metadata": {},
     "output_type": "execute_result"
    }
   ],
   "source": [
    "import pandas_profiling\n",
    "\n",
    "\n",
    "datasets_to_profile = ['sellers', 'orders', \n",
    "                      'order_items', 'customers',\n",
    "                      'geolocation',\n",
    "                      'order_payments',\n",
    "                      'order_reviews',\n",
    "                      'products']\n",
    "\n",
    "for d in datasets_to_profile:\n",
    "    print('Exporting: ', d)\n",
    "    profile = data[d].profile_report(title=\"pd-\" + d)\n",
    "    profile.to_file(output_file=\"data/reports/\" + d + \".html\")\n",
    "\n",
    "import IPython\n",
    "IPython.display.HTML(filename = 'data/reports/sellers.html')"
   ]
  },
  {
   "cell_type": "markdown",
   "metadata": {
    "heading_collapsed": true,
    "hidden": true
   },
   "source": [
    "## EDA with sweetviz"
   ]
  },
  {
   "cell_type": "code",
   "execution_count": 73,
   "metadata": {
    "hidden": true
   },
   "outputs": [
    {
     "data": {
      "text/plain": [
       "['Override.ini']"
      ]
     },
     "execution_count": 73,
     "metadata": {},
     "output_type": "execute_result"
    }
   ],
   "source": [
    "import sweetviz as sv \n",
    "sv.config_parser.read(\"Override.ini\")\n",
    "\n",
    "for d in datasets_to_profile:\n",
    "    print('Exporting: ', d)\n",
    "    profile = sv.analyze(data[d])\n",
    "    profile.show_html(\n",
    "        filepath=\"data/reports/\" + d + \"-sv.html\",\n",
    "        layout = 'widescreen',\n",
    "        open_browser = False)"
   ]
  },
  {
   "cell_type": "code",
   "execution_count": null,
   "metadata": {
    "hidden": true
   },
   "outputs": [],
   "source": []
  }
 ],
 "metadata": {
  "kernelspec": {
   "display_name": "Python 3",
   "language": "python",
   "name": "python3"
  },
  "language_info": {
   "codemirror_mode": {
    "name": "ipython",
    "version": 3
   },
   "file_extension": ".py",
   "mimetype": "text/x-python",
   "name": "python",
   "nbconvert_exporter": "python",
   "pygments_lexer": "ipython3",
   "version": "3.8.5"
  },
  "toc": {
   "base_numbering": 1,
   "nav_menu": {},
   "number_sections": true,
   "sideBar": true,
   "skip_h1_title": false,
   "title_cell": "Table of Contents",
   "title_sidebar": "Contents",
   "toc_cell": false,
   "toc_position": {},
   "toc_section_display": true,
   "toc_window_display": true
  }
 },
 "nbformat": 4,
 "nbformat_minor": 4
}
